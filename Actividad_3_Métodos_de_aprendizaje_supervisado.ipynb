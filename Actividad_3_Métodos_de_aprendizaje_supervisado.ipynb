{
  "nbformat": 4,
  "nbformat_minor": 0,
  "metadata": {
    "colab": {
      "provenance": [],
      "toc_visible": true,
      "include_colab_link": true
    },
    "kernelspec": {
      "name": "python3",
      "display_name": "Python 3"
    },
    "language_info": {
      "name": "python"
    }
  },
  "cells": [
    {
      "cell_type": "markdown",
      "metadata": {
        "id": "view-in-github",
        "colab_type": "text"
      },
      "source": [
        "<a href=\"https://colab.research.google.com/github/JacquelineGiPe/Prueba_de_repositorio/blob/main/Actividad_3_M%C3%A9todos_de_aprendizaje_supervisado.ipynb\" target=\"_parent\"><img src=\"https://colab.research.google.com/assets/colab-badge.svg\" alt=\"Open In Colab\"/></a>"
      ]
    },
    {
      "cell_type": "markdown",
      "source": [
        "# **Actividad 3 - Métodos de aprendizaje supervisado**\n",
        "\n",
        "\n",
        "*   JACQUELINE GIRALDO PELAEZ\n",
        "*   BYRON STIVEN HOYOS OQUENDO\n",
        "\n"
      ],
      "metadata": {
        "id": "KKrEQ_HNQvlb"
      }
    },
    {
      "cell_type": "markdown",
      "source": [
        "Objetivo: Queremos predecir el flujo de pasajeros en una estación de transporte masivo en función de variables como hora del día, día de la semana, clima, y eventos especiales.\n",
        "\n"
      ],
      "metadata": {
        "id": "0tu8iM8CUJRn"
      }
    },
    {
      "cell_type": "markdown",
      "source": [
        "# Generamos del Dataset\n"
      ],
      "metadata": {
        "id": "luanEAszURMv"
      }
    },
    {
      "cell_type": "code",
      "execution_count": 2,
      "metadata": {
        "colab": {
          "base_uri": "https://localhost:8080/"
        },
        "id": "SMPcr5SfPlqu",
        "outputId": "1f5ac10a-5356-4185-d67b-92a2c0c2c335"
      },
      "outputs": [
        {
          "output_type": "stream",
          "name": "stdout",
          "text": [
            "   hora dia_semana     clima  evento_especial  pasajeros\n",
            "0     6    Domingo  Lluvioso                1        549\n",
            "1    19      Lunes   Nublado                0        962\n",
            "2    14     Martes   Soleado                0        158\n",
            "3    10     Sábado   Soleado                1        785\n",
            "4     7     Sábado   Soleado                1        327\n"
          ]
        }
      ],
      "source": [
        "import pandas as pd\n",
        "import numpy as np\n",
        "\n",
        "# Configuración inicial\n",
        "np.random.seed(42)\n",
        "n_samples = 1000\n",
        "\n",
        "# Variables simuladas\n",
        "data = {\n",
        "    \"hora\": np.random.randint(0, 24, size=n_samples), # Hora del día\n",
        "    \"dia_semana\": np.random.choice([\"Lunes\", \"Martes\", \"Miércoles\", \"Jueves\", \"Viernes\", \"Sábado\", \"Domingo\"], n_samples),\n",
        "    \"clima\": np.random.choice([\"Soleado\", \"Lluvioso\", \"Nublado\"], n_samples),\n",
        "    \"evento_especial\": np.random.choice([0, 1], n_samples), # 0: no, 1: sí\n",
        "    \"pasajeros\": np.random.randint(50, 1000, size=n_samples) # Flujo de pasajeros\n",
        "}\n",
        "\n",
        "# Creamos DataFrame\n",
        "df = pd.DataFrame(data)\n",
        "\n",
        "# Exportamos el dataset convirtiendolo a formato csv\n",
        "df.to_csv(\"transporte_masivo.csv\", index=False)\n",
        "print(df.head())\n"
      ]
    },
    {
      "cell_type": "code",
      "source": [
        "#Visualizamos mas el dataset\n",
        "df"
      ],
      "metadata": {
        "colab": {
          "base_uri": "https://localhost:8080/",
          "height": 423
        },
        "id": "svMC8T8sQqcj",
        "outputId": "0a769c86-a4bd-4d12-8ae0-d59d1eacb824"
      },
      "execution_count": 3,
      "outputs": [
        {
          "output_type": "execute_result",
          "data": {
            "text/plain": [
              "     hora dia_semana     clima  evento_especial  pasajeros\n",
              "0       6    Domingo  Lluvioso                1        549\n",
              "1      19      Lunes   Nublado                0        962\n",
              "2      14     Martes   Soleado                0        158\n",
              "3      10     Sábado   Soleado                1        785\n",
              "4       7     Sábado   Soleado                1        327\n",
              "..    ...        ...       ...              ...        ...\n",
              "995    19    Domingo  Lluvioso                0        224\n",
              "996     0     Sábado   Nublado                0        158\n",
              "997    19     Sábado  Lluvioso                0        232\n",
              "998    16    Viernes  Lluvioso                0        241\n",
              "999    11    Viernes  Lluvioso                1        114\n",
              "\n",
              "[1000 rows x 5 columns]"
            ],
            "text/html": [
              "\n",
              "  <div id=\"df-6da8bdab-15c2-47c0-af33-dbce63948118\" class=\"colab-df-container\">\n",
              "    <div>\n",
              "<style scoped>\n",
              "    .dataframe tbody tr th:only-of-type {\n",
              "        vertical-align: middle;\n",
              "    }\n",
              "\n",
              "    .dataframe tbody tr th {\n",
              "        vertical-align: top;\n",
              "    }\n",
              "\n",
              "    .dataframe thead th {\n",
              "        text-align: right;\n",
              "    }\n",
              "</style>\n",
              "<table border=\"1\" class=\"dataframe\">\n",
              "  <thead>\n",
              "    <tr style=\"text-align: right;\">\n",
              "      <th></th>\n",
              "      <th>hora</th>\n",
              "      <th>dia_semana</th>\n",
              "      <th>clima</th>\n",
              "      <th>evento_especial</th>\n",
              "      <th>pasajeros</th>\n",
              "    </tr>\n",
              "  </thead>\n",
              "  <tbody>\n",
              "    <tr>\n",
              "      <th>0</th>\n",
              "      <td>6</td>\n",
              "      <td>Domingo</td>\n",
              "      <td>Lluvioso</td>\n",
              "      <td>1</td>\n",
              "      <td>549</td>\n",
              "    </tr>\n",
              "    <tr>\n",
              "      <th>1</th>\n",
              "      <td>19</td>\n",
              "      <td>Lunes</td>\n",
              "      <td>Nublado</td>\n",
              "      <td>0</td>\n",
              "      <td>962</td>\n",
              "    </tr>\n",
              "    <tr>\n",
              "      <th>2</th>\n",
              "      <td>14</td>\n",
              "      <td>Martes</td>\n",
              "      <td>Soleado</td>\n",
              "      <td>0</td>\n",
              "      <td>158</td>\n",
              "    </tr>\n",
              "    <tr>\n",
              "      <th>3</th>\n",
              "      <td>10</td>\n",
              "      <td>Sábado</td>\n",
              "      <td>Soleado</td>\n",
              "      <td>1</td>\n",
              "      <td>785</td>\n",
              "    </tr>\n",
              "    <tr>\n",
              "      <th>4</th>\n",
              "      <td>7</td>\n",
              "      <td>Sábado</td>\n",
              "      <td>Soleado</td>\n",
              "      <td>1</td>\n",
              "      <td>327</td>\n",
              "    </tr>\n",
              "    <tr>\n",
              "      <th>...</th>\n",
              "      <td>...</td>\n",
              "      <td>...</td>\n",
              "      <td>...</td>\n",
              "      <td>...</td>\n",
              "      <td>...</td>\n",
              "    </tr>\n",
              "    <tr>\n",
              "      <th>995</th>\n",
              "      <td>19</td>\n",
              "      <td>Domingo</td>\n",
              "      <td>Lluvioso</td>\n",
              "      <td>0</td>\n",
              "      <td>224</td>\n",
              "    </tr>\n",
              "    <tr>\n",
              "      <th>996</th>\n",
              "      <td>0</td>\n",
              "      <td>Sábado</td>\n",
              "      <td>Nublado</td>\n",
              "      <td>0</td>\n",
              "      <td>158</td>\n",
              "    </tr>\n",
              "    <tr>\n",
              "      <th>997</th>\n",
              "      <td>19</td>\n",
              "      <td>Sábado</td>\n",
              "      <td>Lluvioso</td>\n",
              "      <td>0</td>\n",
              "      <td>232</td>\n",
              "    </tr>\n",
              "    <tr>\n",
              "      <th>998</th>\n",
              "      <td>16</td>\n",
              "      <td>Viernes</td>\n",
              "      <td>Lluvioso</td>\n",
              "      <td>0</td>\n",
              "      <td>241</td>\n",
              "    </tr>\n",
              "    <tr>\n",
              "      <th>999</th>\n",
              "      <td>11</td>\n",
              "      <td>Viernes</td>\n",
              "      <td>Lluvioso</td>\n",
              "      <td>1</td>\n",
              "      <td>114</td>\n",
              "    </tr>\n",
              "  </tbody>\n",
              "</table>\n",
              "<p>1000 rows × 5 columns</p>\n",
              "</div>\n",
              "    <div class=\"colab-df-buttons\">\n",
              "\n",
              "  <div class=\"colab-df-container\">\n",
              "    <button class=\"colab-df-convert\" onclick=\"convertToInteractive('df-6da8bdab-15c2-47c0-af33-dbce63948118')\"\n",
              "            title=\"Convert this dataframe to an interactive table.\"\n",
              "            style=\"display:none;\">\n",
              "\n",
              "  <svg xmlns=\"http://www.w3.org/2000/svg\" height=\"24px\" viewBox=\"0 -960 960 960\">\n",
              "    <path d=\"M120-120v-720h720v720H120Zm60-500h600v-160H180v160Zm220 220h160v-160H400v160Zm0 220h160v-160H400v160ZM180-400h160v-160H180v160Zm440 0h160v-160H620v160ZM180-180h160v-160H180v160Zm440 0h160v-160H620v160Z\"/>\n",
              "  </svg>\n",
              "    </button>\n",
              "\n",
              "  <style>\n",
              "    .colab-df-container {\n",
              "      display:flex;\n",
              "      gap: 12px;\n",
              "    }\n",
              "\n",
              "    .colab-df-convert {\n",
              "      background-color: #E8F0FE;\n",
              "      border: none;\n",
              "      border-radius: 50%;\n",
              "      cursor: pointer;\n",
              "      display: none;\n",
              "      fill: #1967D2;\n",
              "      height: 32px;\n",
              "      padding: 0 0 0 0;\n",
              "      width: 32px;\n",
              "    }\n",
              "\n",
              "    .colab-df-convert:hover {\n",
              "      background-color: #E2EBFA;\n",
              "      box-shadow: 0px 1px 2px rgba(60, 64, 67, 0.3), 0px 1px 3px 1px rgba(60, 64, 67, 0.15);\n",
              "      fill: #174EA6;\n",
              "    }\n",
              "\n",
              "    .colab-df-buttons div {\n",
              "      margin-bottom: 4px;\n",
              "    }\n",
              "\n",
              "    [theme=dark] .colab-df-convert {\n",
              "      background-color: #3B4455;\n",
              "      fill: #D2E3FC;\n",
              "    }\n",
              "\n",
              "    [theme=dark] .colab-df-convert:hover {\n",
              "      background-color: #434B5C;\n",
              "      box-shadow: 0px 1px 3px 1px rgba(0, 0, 0, 0.15);\n",
              "      filter: drop-shadow(0px 1px 2px rgba(0, 0, 0, 0.3));\n",
              "      fill: #FFFFFF;\n",
              "    }\n",
              "  </style>\n",
              "\n",
              "    <script>\n",
              "      const buttonEl =\n",
              "        document.querySelector('#df-6da8bdab-15c2-47c0-af33-dbce63948118 button.colab-df-convert');\n",
              "      buttonEl.style.display =\n",
              "        google.colab.kernel.accessAllowed ? 'block' : 'none';\n",
              "\n",
              "      async function convertToInteractive(key) {\n",
              "        const element = document.querySelector('#df-6da8bdab-15c2-47c0-af33-dbce63948118');\n",
              "        const dataTable =\n",
              "          await google.colab.kernel.invokeFunction('convertToInteractive',\n",
              "                                                    [key], {});\n",
              "        if (!dataTable) return;\n",
              "\n",
              "        const docLinkHtml = 'Like what you see? Visit the ' +\n",
              "          '<a target=\"_blank\" href=https://colab.research.google.com/notebooks/data_table.ipynb>data table notebook</a>'\n",
              "          + ' to learn more about interactive tables.';\n",
              "        element.innerHTML = '';\n",
              "        dataTable['output_type'] = 'display_data';\n",
              "        await google.colab.output.renderOutput(dataTable, element);\n",
              "        const docLink = document.createElement('div');\n",
              "        docLink.innerHTML = docLinkHtml;\n",
              "        element.appendChild(docLink);\n",
              "      }\n",
              "    </script>\n",
              "  </div>\n",
              "\n",
              "\n",
              "<div id=\"df-4f5660f4-2bf8-4afe-a30c-aaaccd961f73\">\n",
              "  <button class=\"colab-df-quickchart\" onclick=\"quickchart('df-4f5660f4-2bf8-4afe-a30c-aaaccd961f73')\"\n",
              "            title=\"Suggest charts\"\n",
              "            style=\"display:none;\">\n",
              "\n",
              "<svg xmlns=\"http://www.w3.org/2000/svg\" height=\"24px\"viewBox=\"0 0 24 24\"\n",
              "     width=\"24px\">\n",
              "    <g>\n",
              "        <path d=\"M19 3H5c-1.1 0-2 .9-2 2v14c0 1.1.9 2 2 2h14c1.1 0 2-.9 2-2V5c0-1.1-.9-2-2-2zM9 17H7v-7h2v7zm4 0h-2V7h2v10zm4 0h-2v-4h2v4z\"/>\n",
              "    </g>\n",
              "</svg>\n",
              "  </button>\n",
              "\n",
              "<style>\n",
              "  .colab-df-quickchart {\n",
              "      --bg-color: #E8F0FE;\n",
              "      --fill-color: #1967D2;\n",
              "      --hover-bg-color: #E2EBFA;\n",
              "      --hover-fill-color: #174EA6;\n",
              "      --disabled-fill-color: #AAA;\n",
              "      --disabled-bg-color: #DDD;\n",
              "  }\n",
              "\n",
              "  [theme=dark] .colab-df-quickchart {\n",
              "      --bg-color: #3B4455;\n",
              "      --fill-color: #D2E3FC;\n",
              "      --hover-bg-color: #434B5C;\n",
              "      --hover-fill-color: #FFFFFF;\n",
              "      --disabled-bg-color: #3B4455;\n",
              "      --disabled-fill-color: #666;\n",
              "  }\n",
              "\n",
              "  .colab-df-quickchart {\n",
              "    background-color: var(--bg-color);\n",
              "    border: none;\n",
              "    border-radius: 50%;\n",
              "    cursor: pointer;\n",
              "    display: none;\n",
              "    fill: var(--fill-color);\n",
              "    height: 32px;\n",
              "    padding: 0;\n",
              "    width: 32px;\n",
              "  }\n",
              "\n",
              "  .colab-df-quickchart:hover {\n",
              "    background-color: var(--hover-bg-color);\n",
              "    box-shadow: 0 1px 2px rgba(60, 64, 67, 0.3), 0 1px 3px 1px rgba(60, 64, 67, 0.15);\n",
              "    fill: var(--button-hover-fill-color);\n",
              "  }\n",
              "\n",
              "  .colab-df-quickchart-complete:disabled,\n",
              "  .colab-df-quickchart-complete:disabled:hover {\n",
              "    background-color: var(--disabled-bg-color);\n",
              "    fill: var(--disabled-fill-color);\n",
              "    box-shadow: none;\n",
              "  }\n",
              "\n",
              "  .colab-df-spinner {\n",
              "    border: 2px solid var(--fill-color);\n",
              "    border-color: transparent;\n",
              "    border-bottom-color: var(--fill-color);\n",
              "    animation:\n",
              "      spin 1s steps(1) infinite;\n",
              "  }\n",
              "\n",
              "  @keyframes spin {\n",
              "    0% {\n",
              "      border-color: transparent;\n",
              "      border-bottom-color: var(--fill-color);\n",
              "      border-left-color: var(--fill-color);\n",
              "    }\n",
              "    20% {\n",
              "      border-color: transparent;\n",
              "      border-left-color: var(--fill-color);\n",
              "      border-top-color: var(--fill-color);\n",
              "    }\n",
              "    30% {\n",
              "      border-color: transparent;\n",
              "      border-left-color: var(--fill-color);\n",
              "      border-top-color: var(--fill-color);\n",
              "      border-right-color: var(--fill-color);\n",
              "    }\n",
              "    40% {\n",
              "      border-color: transparent;\n",
              "      border-right-color: var(--fill-color);\n",
              "      border-top-color: var(--fill-color);\n",
              "    }\n",
              "    60% {\n",
              "      border-color: transparent;\n",
              "      border-right-color: var(--fill-color);\n",
              "    }\n",
              "    80% {\n",
              "      border-color: transparent;\n",
              "      border-right-color: var(--fill-color);\n",
              "      border-bottom-color: var(--fill-color);\n",
              "    }\n",
              "    90% {\n",
              "      border-color: transparent;\n",
              "      border-bottom-color: var(--fill-color);\n",
              "    }\n",
              "  }\n",
              "</style>\n",
              "\n",
              "  <script>\n",
              "    async function quickchart(key) {\n",
              "      const quickchartButtonEl =\n",
              "        document.querySelector('#' + key + ' button');\n",
              "      quickchartButtonEl.disabled = true;  // To prevent multiple clicks.\n",
              "      quickchartButtonEl.classList.add('colab-df-spinner');\n",
              "      try {\n",
              "        const charts = await google.colab.kernel.invokeFunction(\n",
              "            'suggestCharts', [key], {});\n",
              "      } catch (error) {\n",
              "        console.error('Error during call to suggestCharts:', error);\n",
              "      }\n",
              "      quickchartButtonEl.classList.remove('colab-df-spinner');\n",
              "      quickchartButtonEl.classList.add('colab-df-quickchart-complete');\n",
              "    }\n",
              "    (() => {\n",
              "      let quickchartButtonEl =\n",
              "        document.querySelector('#df-4f5660f4-2bf8-4afe-a30c-aaaccd961f73 button');\n",
              "      quickchartButtonEl.style.display =\n",
              "        google.colab.kernel.accessAllowed ? 'block' : 'none';\n",
              "    })();\n",
              "  </script>\n",
              "</div>\n",
              "\n",
              "  <div id=\"id_e327e5c6-fbb5-4b1a-a856-1f297b7b3cac\">\n",
              "    <style>\n",
              "      .colab-df-generate {\n",
              "        background-color: #E8F0FE;\n",
              "        border: none;\n",
              "        border-radius: 50%;\n",
              "        cursor: pointer;\n",
              "        display: none;\n",
              "        fill: #1967D2;\n",
              "        height: 32px;\n",
              "        padding: 0 0 0 0;\n",
              "        width: 32px;\n",
              "      }\n",
              "\n",
              "      .colab-df-generate:hover {\n",
              "        background-color: #E2EBFA;\n",
              "        box-shadow: 0px 1px 2px rgba(60, 64, 67, 0.3), 0px 1px 3px 1px rgba(60, 64, 67, 0.15);\n",
              "        fill: #174EA6;\n",
              "      }\n",
              "\n",
              "      [theme=dark] .colab-df-generate {\n",
              "        background-color: #3B4455;\n",
              "        fill: #D2E3FC;\n",
              "      }\n",
              "\n",
              "      [theme=dark] .colab-df-generate:hover {\n",
              "        background-color: #434B5C;\n",
              "        box-shadow: 0px 1px 3px 1px rgba(0, 0, 0, 0.15);\n",
              "        filter: drop-shadow(0px 1px 2px rgba(0, 0, 0, 0.3));\n",
              "        fill: #FFFFFF;\n",
              "      }\n",
              "    </style>\n",
              "    <button class=\"colab-df-generate\" onclick=\"generateWithVariable('df')\"\n",
              "            title=\"Generate code using this dataframe.\"\n",
              "            style=\"display:none;\">\n",
              "\n",
              "  <svg xmlns=\"http://www.w3.org/2000/svg\" height=\"24px\"viewBox=\"0 0 24 24\"\n",
              "       width=\"24px\">\n",
              "    <path d=\"M7,19H8.4L18.45,9,17,7.55,7,17.6ZM5,21V16.75L18.45,3.32a2,2,0,0,1,2.83,0l1.4,1.43a1.91,1.91,0,0,1,.58,1.4,1.91,1.91,0,0,1-.58,1.4L9.25,21ZM18.45,9,17,7.55Zm-12,3A5.31,5.31,0,0,0,4.9,8.1,5.31,5.31,0,0,0,1,6.5,5.31,5.31,0,0,0,4.9,4.9,5.31,5.31,0,0,0,6.5,1,5.31,5.31,0,0,0,8.1,4.9,5.31,5.31,0,0,0,12,6.5,5.46,5.46,0,0,0,6.5,12Z\"/>\n",
              "  </svg>\n",
              "    </button>\n",
              "    <script>\n",
              "      (() => {\n",
              "      const buttonEl =\n",
              "        document.querySelector('#id_e327e5c6-fbb5-4b1a-a856-1f297b7b3cac button.colab-df-generate');\n",
              "      buttonEl.style.display =\n",
              "        google.colab.kernel.accessAllowed ? 'block' : 'none';\n",
              "\n",
              "      buttonEl.onclick = () => {\n",
              "        google.colab.notebook.generateWithVariable('df');\n",
              "      }\n",
              "      })();\n",
              "    </script>\n",
              "  </div>\n",
              "\n",
              "    </div>\n",
              "  </div>\n"
            ],
            "application/vnd.google.colaboratory.intrinsic+json": {
              "type": "dataframe",
              "variable_name": "df",
              "summary": "{\n  \"name\": \"df\",\n  \"rows\": 1000,\n  \"fields\": [\n    {\n      \"column\": \"hora\",\n      \"properties\": {\n        \"dtype\": \"number\",\n        \"std\": 7,\n        \"min\": 0,\n        \"max\": 23,\n        \"num_unique_values\": 24,\n        \"samples\": [\n          23,\n          16,\n          6\n        ],\n        \"semantic_type\": \"\",\n        \"description\": \"\"\n      }\n    },\n    {\n      \"column\": \"dia_semana\",\n      \"properties\": {\n        \"dtype\": \"category\",\n        \"num_unique_values\": 7,\n        \"samples\": [\n          \"Domingo\",\n          \"Lunes\",\n          \"Mi\\u00e9rcoles\"\n        ],\n        \"semantic_type\": \"\",\n        \"description\": \"\"\n      }\n    },\n    {\n      \"column\": \"clima\",\n      \"properties\": {\n        \"dtype\": \"category\",\n        \"num_unique_values\": 3,\n        \"samples\": [\n          \"Lluvioso\",\n          \"Nublado\",\n          \"Soleado\"\n        ],\n        \"semantic_type\": \"\",\n        \"description\": \"\"\n      }\n    },\n    {\n      \"column\": \"evento_especial\",\n      \"properties\": {\n        \"dtype\": \"number\",\n        \"std\": 0,\n        \"min\": 0,\n        \"max\": 1,\n        \"num_unique_values\": 2,\n        \"samples\": [\n          0,\n          1\n        ],\n        \"semantic_type\": \"\",\n        \"description\": \"\"\n      }\n    },\n    {\n      \"column\": \"pasajeros\",\n      \"properties\": {\n        \"dtype\": \"number\",\n        \"std\": 273,\n        \"min\": 50,\n        \"max\": 998,\n        \"num_unique_values\": 613,\n        \"samples\": [\n          187,\n          803\n        ],\n        \"semantic_type\": \"\",\n        \"description\": \"\"\n      }\n    }\n  ]\n}"
            }
          },
          "metadata": {},
          "execution_count": 3
        }
      ]
    },
    {
      "cell_type": "markdown",
      "source": [
        "## Preprocesamiento\n",
        "Preparamos los datos para el modelo (transformar variables categóricas, dividir en entrenamiento y prueba)"
      ],
      "metadata": {
        "id": "rO7W8vr-a_jf"
      }
    },
    {
      "cell_type": "code",
      "source": [
        "from sklearn.model_selection import train_test_split # Divide los arrays o matrices en subgrupos de entrenamiento y testeo\n",
        "from sklearn.preprocessing import OneHotEncoder # para transformar las varibles categóricas en binarias\n",
        "from sklearn.compose import ColumnTransformer # permite aplicar transformaciones específicas a cada tipo de columna de manera eficiente\n",
        "from sklearn.pipeline import Pipeline # para encadenar varios pasos de procesamiento y el modelo en un solo objeto\n",
        "\n",
        "# Dividir características y etiquetas\n",
        "X = df.drop(\"pasajeros\", axis=1) # guardamos datframe sin columna pasajeros\n",
        "y = df[\"pasajeros\"] # lo que queremos predecir\n",
        "\n",
        "# Convertir variables categóricas a formato numérico\n",
        "categorical_features = [\"dia_semana\", \"clima\"]\n",
        "numeric_features = [\"hora\", \"evento_especial\"]\n",
        "\n",
        "# Crear preprocesador para convetir las variables categoricas\n",
        "preprocessor = ColumnTransformer(\n",
        "    transformers=[\n",
        "        (\"cat\", OneHotEncoder(), categorical_features)\n",
        "    ],\n",
        "    remainder=\"passthrough\" # Dejar las columnas numéricas como están\n",
        ")\n",
        "\n",
        "# Dividir el dataset\n",
        "X_train, X_test, y_train, y_test = train_test_split(X, y, test_size=0.2, random_state=42) # 20% para prueba y 80% entrenamiento; y 42 para controlar\n",
        "#  la aleatoriedad en la división de los datos entre los conjuntos de entrenamiento y prueba\n"
      ],
      "metadata": {
        "id": "GgkcURMHPu-K"
      },
      "execution_count": 4,
      "outputs": []
    },
    {
      "cell_type": "markdown",
      "source": [
        "## Entrenamiento del Modelo\n",
        "Usaremos un modelo de regresión lineal para predecir el flujo de pasajeros."
      ],
      "metadata": {
        "id": "ruiDeAlZbJU2"
      }
    },
    {
      "cell_type": "code",
      "source": [
        "from sklearn.linear_model import LinearRegression # para crear un modelo de regresion lineal\n",
        "from sklearn.metrics import mean_squared_error # para calcula el error, (que tan lejos podrian estar las predicciones)\n",
        "\n",
        "# Crear pipeline (agrupa los paso del proceso en un objeto) con preprocesador y modelo\n",
        "pipeline = Pipeline(steps=[\n",
        "    (\"preprocessor\", preprocessor),   # crea un pipeline que primero procesara los datos y luego hace la regresion lineal.\n",
        "    (\"model\", LinearRegression())\n",
        "])\n",
        "\n",
        "# Entrenar el modelo\n",
        "pipeline.fit(X_train, y_train)\n",
        "\n",
        "# Predicciones\n",
        "y_pred = pipeline.predict(X_test)\n",
        "\n",
        "# Evaluación del modelo\n",
        "mse = mean_squared_error(y_test, y_pred)\n",
        "print(f\"Error cuadrático medio (MSE): {mse}\")\n"
      ],
      "metadata": {
        "colab": {
          "base_uri": "https://localhost:8080/"
        },
        "id": "g6wwMAaWPytp",
        "outputId": "07eddded-49e6-4dbc-ca7f-041412d13756"
      },
      "execution_count": 5,
      "outputs": [
        {
          "output_type": "stream",
          "name": "stdout",
          "text": [
            "Error cuadrático medio (MSE): 69320.18063334981\n"
          ]
        }
      ]
    },
    {
      "cell_type": "markdown",
      "source": [
        "## Resultados y Exportación\n",
        "Exportar el modelo para uso futuro."
      ],
      "metadata": {
        "id": "livLphepbYVx"
      }
    },
    {
      "cell_type": "code",
      "source": [
        "import joblib\n",
        "\n",
        "# Guardar el modelo\n",
        "joblib.dump(pipeline, \"modelo_transporte_masivo.pkl\")\n"
      ],
      "metadata": {
        "colab": {
          "base_uri": "https://localhost:8080/"
        },
        "id": "1y41agE-P6KC",
        "outputId": "dcd5a1c4-6401-4ca0-e4da-e57c66c51fd5"
      },
      "execution_count": null,
      "outputs": [
        {
          "output_type": "execute_result",
          "data": {
            "text/plain": [
              "['modelo_transporte_masivo.pkl']"
            ]
          },
          "metadata": {},
          "execution_count": 6
        }
      ]
    },
    {
      "cell_type": "markdown",
      "source": [
        "# Algunos graficos"
      ],
      "metadata": {
        "id": "_8okjasxb7CX"
      }
    },
    {
      "cell_type": "code",
      "source": [
        "\n",
        "import matplotlib.pyplot as plt\n",
        "import seaborn as sns\n",
        "\n",
        "# Crear el boxplot\n",
        "plt.figure(figsize=(10, 6))\n",
        "sns.boxplot(x=\"clima\", y=\"pasajeros\", data=df)\n",
        "plt.title(\"Distribución de pasajeros por clima\")\n",
        "plt.xlabel(\"Clima\")\n",
        "plt.ylabel(\"Número de pasajeros\")\n",
        "plt.show()"
      ],
      "metadata": {
        "colab": {
          "base_uri": "https://localhost:8080/",
          "height": 534
        },
        "id": "Xm3Vn-a_QgP-",
        "outputId": "e2a5afa5-ff24-4c54-a460-03367f155daf"
      },
      "execution_count": null,
      "outputs": [
        {
          "output_type": "display_data",
          "data": {
            "text/plain": [
              "<Figure size 1000x600 with 1 Axes>"
            ],
            "image/png": "[encoded data removed]"
          },
          "metadata": {}
        }
      ]
    },
    {
      "cell_type": "code",
      "source": [
        "\n",
        "import pandas as pd\n",
        "import matplotlib.pyplot as plt\n",
        "\n",
        "# Cargar los datos\n",
        "df = pd.read_csv(\"transporte_masivo.csv\")\n",
        "\n",
        "# Calcular el promedio de pasajeros por día de la semana\n",
        "promedio_pasajeros = df.groupby(\"dia_semana\")[\"pasajeros\"].mean()\n",
        "\n",
        "# Crear el gráfico de barras\n",
        "plt.figure(figsize=(10, 6))\n",
        "plt.bar(promedio_pasajeros.index, promedio_pasajeros.values)\n",
        "plt.title(\"Promedio de pasajeros por día de la semana\")\n",
        "plt.xlabel(\"Día de la semana\")\n",
        "plt.ylabel(\"Promedio de pasajeros\")\n",
        "plt.grid(True)\n",
        "plt.show()"
      ],
      "metadata": {
        "colab": {
          "base_uri": "https://localhost:8080/",
          "height": 540
        },
        "id": "h1AfVeJNF-Ss",
        "outputId": "4e02e298-b3b0-47ef-a44a-8e586f5d1881"
      },
      "execution_count": null,
      "outputs": [
        {
          "output_type": "display_data",
          "data": {
            "text/plain": [
              "<Figure size 1000x600 with 1 Axes>"
            ],
            "image/png": "[encoded data removed]"
          },
          "metadata": {}
        }
      ]
    },
    {
      "cell_type": "markdown",
      "source": [
        "# Poniendo a prueba el modelo"
      ],
      "metadata": {
        "id": "4nWl4RYycJ6A"
      }
    },
    {
      "cell_type": "code",
      "source": [
        "import joblib\n",
        "\n",
        "# Cargar el modelo guardado\n",
        "modelo_cargado = joblib.load(\"modelo_transporte_masivo.pkl\")\n"
      ],
      "metadata": {
        "id": "gzVML4uucCNI"
      },
      "execution_count": null,
      "outputs": []
    },
    {
      "cell_type": "code",
      "source": [
        "import pandas as pd\n",
        "\n",
        "# Nuevos datos de prueba\n",
        "nuevos_datos = pd.DataFrame({\n",
        "    \"hora\": [8, 18, 22],\n",
        "    \"dia_semana\": [\"Lunes\", \"Viernes\", \"Sábado\"],\n",
        "    \"clima\": [\"Soleado\", \"Lluvioso\", \"Nublado\"],\n",
        "    \"evento_especial\": [0, 1, 0]\n",
        "})\n",
        "\n",
        "print(nuevos_datos)\n"
      ],
      "metadata": {
        "colab": {
          "base_uri": "https://localhost:8080/"
        },
        "id": "5wG9LKGIcUeo",
        "outputId": "826deead-75de-4dcc-ad73-84e0e1551631"
      },
      "execution_count": null,
      "outputs": [
        {
          "output_type": "stream",
          "name": "stdout",
          "text": [
            "   hora dia_semana     clima  evento_especial\n",
            "0     8      Lunes   Soleado                0\n",
            "1    18    Viernes  Lluvioso                1\n",
            "2    22     Sábado   Nublado                0\n"
          ]
        }
      ]
    },
    {
      "cell_type": "code",
      "source": [
        "# Predicciones con los nuevos datos\n",
        "predicciones = modelo_cargado.predict(nuevos_datos)\n",
        "\n",
        "# Mostrar resultados\n",
        "for i, prediccion in enumerate(predicciones):\n",
        "    print(f\"Predicción para instancia {i+1}: {prediccion:.2f} pasajeros\")\n"
      ],
      "metadata": {
        "colab": {
          "base_uri": "https://localhost:8080/"
        },
        "id": "0MiMIG08cXfI",
        "outputId": "ca35d3af-c311-4af0-d8f2-16dedf09a044"
      },
      "execution_count": null,
      "outputs": [
        {
          "output_type": "stream",
          "name": "stdout",
          "text": [
            "Predicción para instancia 1: 528.83 pasajeros\n",
            "Predicción para instancia 2: 532.64 pasajeros\n",
            "Predicción para instancia 3: 516.11 pasajeros\n"
          ]
        }
      ]
    },
    {
      "cell_type": "code",
      "source": [
        "# Datos reales de ejemplo (si están disponibles)\n",
        "pasajeros_reales = [120, 800, 300]\n",
        "\n",
        "# Calcular el error absoluto medio\n",
        "errores = [abs(real - pred) for real, pred in zip(pasajeros_reales, predicciones)]\n",
        "mae = sum(errores) / len(errores)\n",
        "print(f\"Error absoluto medio (MAE): {mae:.2f}\")\n"
      ],
      "metadata": {
        "id": "w2PxVOVZcaOh",
        "outputId": "815e6255-7956-444b-bf7c-81b3dd2824af",
        "colab": {
          "base_uri": "https://localhost:8080/"
        }
      },
      "execution_count": null,
      "outputs": [
        {
          "output_type": "stream",
          "name": "stdout",
          "text": [
            "Error absoluto medio (MAE): 297.43\n"
          ]
        }
      ]
    }
  ]
}